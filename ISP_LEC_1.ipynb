{
  "nbformat": 4,
  "nbformat_minor": 0,
  "metadata": {
    "colab": {
      "provenance": []
    },
    "kernelspec": {
      "name": "python3",
      "display_name": "Python 3"
    },
    "language_info": {
      "name": "python"
    }
  },
  "cells": [
    {
      "cell_type": "code",
      "execution_count": null,
      "metadata": {
        "id": "W3vAkY2WR27R"
      },
      "outputs": [],
      "source": [
        "a=5\n",
        "b=6\n",
        "text=\"MBA TECH DS\""
      ]
    },
    {
      "cell_type": "code",
      "source": [
        "print(a+b)"
      ],
      "metadata": {
        "colab": {
          "base_uri": "https://localhost:8080/"
        },
        "id": "lSnO39NjTyPU",
        "outputId": "461fadc8-be89-4bcd-e15b-acaaf3e5d71c"
      },
      "execution_count": null,
      "outputs": [
        {
          "output_type": "stream",
          "name": "stdout",
          "text": [
            "11\n"
          ]
        }
      ]
    },
    {
      "cell_type": "code",
      "source": [
        "print(text)"
      ],
      "metadata": {
        "colab": {
          "base_uri": "https://localhost:8080/"
        },
        "id": "3ZM8RFiGUZB8",
        "outputId": "2e9643ac-90d0-41ea-ab6e-4b73b45828cc"
      },
      "execution_count": null,
      "outputs": [
        {
          "output_type": "stream",
          "name": "stdout",
          "text": [
            "MBA TECH DS\n"
          ]
        }
      ]
    },
    {
      "cell_type": "code",
      "source": [
        "#IF ELSE ELIF STATEMENTS\n",
        "a=200\n",
        "b=200\n",
        "if a>b:\n",
        "  print(a)\n",
        "elif a==b:\n",
        "  print(a+b)\n",
        "else:\n",
        " print(b)"
      ],
      "metadata": {
        "colab": {
          "base_uri": "https://localhost:8080/"
        },
        "id": "dz3d-7XJT7vt",
        "outputId": "b22b452a-cb51-4918-81bd-97b7a42cdb9f"
      },
      "execution_count": null,
      "outputs": [
        {
          "output_type": "stream",
          "name": "stdout",
          "text": [
            "400\n"
          ]
        }
      ]
    },
    {
      "cell_type": "code",
      "source": [
        "num=int(input(\"ENTER A NUMBER : \"))\n",
        "if num>0:\n",
        " print(\"The number is positive\")\n",
        "elif num==0:\n",
        "    print(\"The number is 0\")\n",
        "else:\n",
        "    print(\"The number is negative\")"
      ],
      "metadata": {
        "colab": {
          "base_uri": "https://localhost:8080/"
        },
        "id": "OYV7OUHmT73j",
        "outputId": "9082a48d-2937-4eb2-b5b9-1e37013d0260"
      },
      "execution_count": null,
      "outputs": [
        {
          "output_type": "stream",
          "name": "stdout",
          "text": [
            "ENTER A NUMBER : -5\n",
            "The number is negative\n"
          ]
        }
      ]
    },
    {
      "cell_type": "code",
      "source": [
        "for i in range(0,5):\n",
        "  print(i)\n",
        "  print(\"hi\")"
      ],
      "metadata": {
        "colab": {
          "base_uri": "https://localhost:8080/"
        },
        "id": "DiuSSC51T78G",
        "outputId": "926d6bc8-18ce-48eb-be13-d954620cc7e8"
      },
      "execution_count": null,
      "outputs": [
        {
          "output_type": "stream",
          "name": "stdout",
          "text": [
            "0\n",
            "hi\n",
            "1\n",
            "hi\n",
            "2\n",
            "hi\n",
            "3\n",
            "hi\n",
            "4\n",
            "hi\n"
          ]
        }
      ]
    },
    {
      "cell_type": "code",
      "source": [
        "text=\"mba tech data science\"\n",
        "print(len(text))\n",
        "for i in range(len(text)):\n",
        "  print(text[i])"
      ],
      "metadata": {
        "colab": {
          "base_uri": "https://localhost:8080/"
        },
        "id": "0gbMlMv3T8AD",
        "outputId": "8637c507-bda9-450a-f47c-62781e9e0946"
      },
      "execution_count": null,
      "outputs": [
        {
          "output_type": "stream",
          "name": "stdout",
          "text": [
            "21\n",
            "m\n",
            "b\n",
            "a\n",
            " \n",
            "t\n",
            "e\n",
            "c\n",
            "h\n",
            " \n",
            "d\n",
            "a\n",
            "t\n",
            "a\n",
            " \n",
            "s\n",
            "c\n",
            "i\n",
            "e\n",
            "n\n",
            "c\n",
            "e\n"
          ]
        }
      ]
    },
    {
      "cell_type": "code",
      "source": [
        "a=int(input(\"Enter a number: \"))\n",
        "b=int(input(\"Enter a second number: \"))\n",
        "sum=a+b\n",
        "print(sum)\n"
      ],
      "metadata": {
        "colab": {
          "base_uri": "https://localhost:8080/"
        },
        "id": "gO2ipdHXT8Dj",
        "outputId": "55975009-88e1-48eb-83bd-a256aad14000"
      },
      "execution_count": null,
      "outputs": [
        {
          "output_type": "stream",
          "name": "stdout",
          "text": [
            "Enter a number: 8\n",
            "Enter a second number: 92\n",
            "100\n"
          ]
        }
      ]
    },
    {
      "cell_type": "code",
      "source": [
        "def sum(arg1 , arg2):\n",
        "  total=arg1+arg2\n",
        "  #print(\"Inside the function:\", total)\n",
        "  return total\n",
        "total=sum(12,77)\n",
        "print(total)"
      ],
      "metadata": {
        "colab": {
          "base_uri": "https://localhost:8080/"
        },
        "id": "U6RIZC0HT8JV",
        "outputId": "c3ff0831-273f-459d-9c07-ae1b87243772"
      },
      "execution_count": null,
      "outputs": [
        {
          "output_type": "stream",
          "name": "stdout",
          "text": [
            "89\n"
          ]
        }
      ]
    },
    {
      "cell_type": "code",
      "source": [
        "def encrypt(text,s):\n",
        "  text=str(input(\"Enter the string to be encryted: \"))\n",
        "  s=int(input(\"Enter shift: \"))\n",
        "result = \"\"\n",
        "for i in range(len(text)):\n",
        "      char = text[i]\n",
        "      print(char)\n"
      ],
      "metadata": {
        "colab": {
          "base_uri": "https://localhost:8080/"
        },
        "id": "6Y4aGQOsZ-Ip",
        "outputId": "255c60ea-6197-492c-9e46-d2281d053910"
      },
      "execution_count": null,
      "outputs": [
        {
          "output_type": "stream",
          "name": "stdout",
          "text": [
            "A\n",
            "r\n",
            "i\n",
            "n\n",
            "a\n"
          ]
        }
      ]
    },
    {
      "cell_type": "code",
      "source": [
        "def encypt_func(txt, s):  \n",
        "    result = \"\"  \n",
        " \n",
        "    for i in range(len(txt)):  \n",
        "        char = txt[i]  \n",
        "        if (char.isupper()):  \n",
        "            result += chr((ord(char) + s - 65) % 26 + 65)  \n",
        "\n",
        "        else:  \n",
        "            result += chr((ord(char) + s - 97) % 26 + 97)  \n",
        "    return result    \n",
        "txt = str(input(\"Enter a string: \")) \n",
        "s = int(input(\"Enter shift: \"))  \n",
        "  \n",
        "print(\"Plain txt : \" + txt)  \n",
        "print(\"Shift pattern : \" + str(s))  \n",
        "print(\"Cipher: \" + encypt_func(txt, s))  "
      ],
      "metadata": {
        "colab": {
          "base_uri": "https://localhost:8080/"
        },
        "id": "7n_ksPnWec2v",
        "outputId": "efe5f680-a2c9-4ed6-89bf-415c72e14d98"
      },
      "execution_count": null,
      "outputs": [
        {
          "output_type": "stream",
          "name": "stdout",
          "text": [
            "Enter a string: bzbzbzbzbzbz\n",
            "Enter shift: 34\n",
            "Plain txt : bzbzbzbzbzbz\n",
            "Shift pattern : 34\n",
            "Cipher: jhjhjhjhjhjh\n"
          ]
        }
      ]
    },
    {
      "cell_type": "code",
      "source": [
        "def decrypt_func(txt, s):  \n",
        "    result = \"\"  \n",
        " \n",
        "   for i in range(len(txt)):  \n",
        "        char = txt[i]  \n",
        "        if (char.isupper()):  \n",
        "            result += chr((ord(char) - s - 65) % 26 + 65)  \n",
        "\n",
        "        else:  \n",
        "            result += chr((ord(char) - s - 97) % 26 + 97)  \n",
        "    return result    \n",
        "txt = str(input(\"Enter a string: \")) \n",
        "s = int(input(\"Enter shift: \"))  \n",
        "print(\"Plain txt : \" + txt)  \n",
        "print(\"Shift pattern : \" + str(s))  \n",
        "print(\"Cipher: \" + decrypt_func(txt, s))"
      ],
      "metadata": {
        "colab": {
          "base_uri": "https://localhost:8080/"
        },
        "id": "EUj7Xl_rlXIq",
        "outputId": "b0304258-dbed-4f5f-cc46-de79ee9d2df4"
      },
      "execution_count": null,
      "outputs": [
        {
          "output_type": "stream",
          "name": "stdout",
          "text": [
            "Enter a string: jhjhjhjhjjh\n",
            "Enter shift: 34\n",
            "Plain txt : jhjhjhjhjjh\n",
            "Shift pattern : 34\n",
            "Cipher: bzbzbzbzbbz\n"
          ]
        }
      ]
    },
    {
      "cell_type": "code",
      "source": [],
      "metadata": {
        "id": "WPdrjCbjmacG"
      },
      "execution_count": null,
      "outputs": []
    }
  ]
}