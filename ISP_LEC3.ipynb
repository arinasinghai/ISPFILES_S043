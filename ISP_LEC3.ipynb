{
  "nbformat": 4,
  "nbformat_minor": 0,
  "metadata": {
    "colab": {
      "provenance": [],
      "collapsed_sections": []
    },
    "kernelspec": {
      "name": "python3",
      "display_name": "Python 3"
    },
    "language_info": {
      "name": "python"
    }
  },
  "cells": [
    {
      "cell_type": "markdown",
      "source": [
        "### **KEYWORD CIPHER**"
      ],
      "metadata": {
        "id": "SezTDxNLqfMm"
      }
    },
    {
      "cell_type": "code",
      "execution_count": null,
      "metadata": {
        "colab": {
          "base_uri": "https://localhost:8080/"
        },
        "id": "i4j37JXDZVKn",
        "outputId": "79a9a01b-e4eb-4bdb-b0b9-d4f3799438fa"
      },
      "outputs": [
        {
          "output_type": "stream",
          "name": "stdout",
          "text": [
            "['A', 'T', 'T', 'A', 'C', 'K', ' ', 'A', 'T', ' ', 'D', 'A', 'W', 'N']\n",
            "Keyword after removing duplicate ['S', 't', 'a', 'r', ' ', 'W']\n",
            "Encrypting text is:  ['S', 't', 'a', 'r', ' ', 'W', 'A', 'B', 'C', 'D', 'E', 'F', 'G', 'H', 'I', 'J', 'K', 'L', 'M', 'N', 'O', 'P', 'Q', 'R', 'T', 'U', 'V', 'X', 'Y', 'Z']\n",
            "Star War\n",
            "Attack at dawn\n",
            "SOOSaF SO rSRI\n"
          ]
        }
      ],
      "source": [
        "message=\"Attack at dawn\" \n",
        "keyword=\"Star War\"\n",
        "ciphertext=\"\" \n",
        "all_alphabets=[]\n",
        "for i in range(65,91):\n",
        "  all_alphabets.append(chr(i))\n",
        "msg=[]\n",
        "for i in message:\n",
        "  msg.append(i.upper())\n",
        "print(msg)\n",
        "keyword1=keyword.upper()\n",
        "def duplicates(list):\n",
        "  key=[]\n",
        "  for i in list:\n",
        "    if i not in key:\n",
        "      key.append(i)\n",
        "  return key\n",
        "keyword1=duplicates(keyword)\n",
        "print(\"Keyword after removing duplicate\", keyword1)\n",
        "encrypting=duplicates(keyword1+all_alphabets)\n",
        "print(\"Encrypting text is: \" , encrypting)\n",
        "for i in encrypting:\n",
        "  if(i==' '):\n",
        "    encrypting.remove(' ')\n",
        "for i in range(len(msg)):\n",
        "  if(msg[i]!=' '):\n",
        "    ciphertext=ciphertext+encrypting[all_alphabets.index(msg[i])]\n",
        "  else:\n",
        "    ciphertext=ciphertext+' ' \n",
        "print(keyword)\n",
        "print(message)\n",
        "print(ciphertext) \n"
      ]
    },
    {
      "cell_type": "code",
      "source": [],
      "metadata": {
        "id": "qZ9QEVaysN9b"
      },
      "execution_count": null,
      "outputs": []
    }
  ]
}