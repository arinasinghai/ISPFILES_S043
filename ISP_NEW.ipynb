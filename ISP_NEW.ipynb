{
  "nbformat": 4,
  "nbformat_minor": 0,
  "metadata": {
    "colab": {
      "provenance": [],
      "collapsed_sections": []
    },
    "kernelspec": {
      "name": "python3",
      "display_name": "Python 3"
    },
    "language_info": {
      "name": "python"
    }
  },
  "cells": [
    {
      "cell_type": "markdown",
      "source": [
        "### **DIFFIE-HELLMAN KEY EXCHANGE**"
      ],
      "metadata": {
        "id": "ne5c8dMRoEvf"
      }
    },
    {
      "cell_type": "code",
      "execution_count": null,
      "metadata": {
        "colab": {
          "base_uri": "https://localhost:8080/"
        },
        "id": "UIYADXXAn8wg",
        "outputId": "311ba28a-d839-46e3-aeb4-e1cdf7a397de"
      },
      "outputs": [
        {
          "output_type": "stream",
          "name": "stdout",
          "text": [
            "Both parties agree to a single prime\n",
            "Enter the prime number to be considered: 7\n",
            "Both must agree with single primitive root to use.\n",
            "Enter the primitive root: 12\n",
            "Enter a secret number: 11\n",
            "Enter a secret number: 48\n",
            "Party 1's public key is: A=root^alice*mod(prime)\n",
            "Party1's public key is:  3\n",
            "Party 2's public key is: B=root^bob*mod(prime)\n",
            "Party2's public key is:  1\n",
            "Party1 calculates the shared key as K=B^alice*(mod(prime))\n",
            "Party1 calculates the shared key and results:  1\n",
            "Party1 calculates the shared key as K=A^bob*(mod(prime))\n",
            "Party1 calculates the shared key and results:  1\n"
          ]
        }
      ],
      "source": [
        "print(\"Both parties agree to a single prime\")\n",
        "prime=int(input(\"Enter the prime number to be considered: \"))\n",
        "#Primitive root to be used \n",
        "print(\"Both must agree with single primitive root to use.\")\n",
        "root=int(input(\"Enter the primitive root: \"))\n",
        "\n",
        "#Party1 choses a secret number\n",
        "alice=int(input(\"Enter a secret number: \"))\n",
        "#Party2 choses a secret number\n",
        "bob=int(input(\"Enter a secret number: \"))\n",
        "\n",
        "print(\"Party 1's public key is: A=root^alice*mod(prime)\")\n",
        "alicepublic=(root**alice)%prime\n",
        "print(\"Party1's public key is: \",alicepublic)\n",
        "\n",
        "\n",
        "print(\"Party 2's public key is: B=root^bob*mod(prime)\")\n",
        "bobpublic=(root**bob)%prime\n",
        "print(\"Party2's public key is: \", bobpublic)\n",
        "\n",
        "print(\"Party1 calculates the shared key as K=B^alice*(mod(prime))\")\n",
        "alicekey=(bobpublic**alice)%prime\n",
        "print(\"Party1 calculates the shared key and results: \", alicekey)\n",
        "\n",
        "print(\"Party1 calculates the shared key as K=A^bob*(mod(prime))\")\n",
        "bobkey=(alicepublic**bob)%prime\n",
        "print(\"Party1 calculates the shared key and results: \",bobkey)\n"
      ]
    },
    {
      "cell_type": "code",
      "source": [],
      "metadata": {
        "id": "mOVWuVHG4ZvB"
      },
      "execution_count": null,
      "outputs": []
    }
  ]
}