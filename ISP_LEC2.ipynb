{
  "nbformat": 4,
  "nbformat_minor": 0,
  "metadata": {
    "colab": {
      "provenance": []
    },
    "kernelspec": {
      "name": "python3",
      "display_name": "Python 3"
    },
    "language_info": {
      "name": "python"
    }
  },
  "cells": [
    {
      "cell_type": "markdown",
      "source": [
        "### **VERNAM CIPHER**"
      ],
      "metadata": {
        "id": "56oyN3UBkU38"
      }
    },
    {
      "cell_type": "code",
      "source": [
        "plain_text=input(\"ENTER THE MESSAGE: \")\n",
        "key=input(\"Enter the one time password: \")\n",
        "cipher_text=''\n",
        "plain_text=plain_text.replace(\" \",\"\")\n",
        "key=key.replace(\" \",\"\")\n",
        "plain_text=plain_text.lower()\n",
        "key=key.lower()\n",
        "if(len(plain_text)!=len(key)):\n",
        "  print(\"Lengths are different.\")\n",
        "else:\n",
        "  print(\"Length equal.\")\n",
        "cipher_text=\"\"\n",
        "for i in range(len(plain_text)):\n",
        "  k1=ord(plain_text[i])-97\n",
        "  k2=ord(key[i])-97 \n",
        "  s=chr((k1+k2)%26+97)\n",
        "  cipher_text+=s\n",
        "print(\"Encrypted message is: \",cipher_text)\n"
      ],
      "metadata": {
        "colab": {
          "base_uri": "https://localhost:8080/"
        },
        "id": "G-PVP3KpaLUp",
        "outputId": "c98f898a-d426-4a0b-9e1c-c1875189b008"
      },
      "execution_count": null,
      "outputs": [
        {
          "output_type": "stream",
          "name": "stdout",
          "text": [
            "ENTER THE MESSAGE: abcde\n",
            "Enter the one time password: acdsf\n",
            "Length equal.\n",
            "Encrypted message is:  adfvj\n"
          ]
        }
      ]
    },
    {
      "cell_type": "code",
      "source": [
        "plain_text=input(\"ENTER THE MESSAGE: \")\n",
        "key=input(\"Enter the one time password: \")\n",
        "cipher_text=''\n",
        "plain_text=plain_text.replace(\" \",\"\")\n",
        "key=key.replace(\" \",\"\")\n",
        "plain_text=plain_text.lower()\n",
        "key=key.lower()\n",
        "if(len(plain_text)!=len(key)):\n",
        "  print(\"Lengths are different.\")\n",
        "else:\n",
        "  print(\"Length equal.\")\n",
        "cipher_text=\"\"\n",
        "for i in range(len(plain_text)):\n",
        "  k1=ord(plain_text[i])-97\n",
        "  k2=ord(key[i])-97 \n",
        "  s=chr((k1-k2)%26+97)\n",
        "  cipher_text+=s\n",
        "print(\"Decrypted message is: \",cipher_text)"
      ],
      "metadata": {
        "colab": {
          "base_uri": "https://localhost:8080/"
        },
        "id": "OwJudssxaLYR",
        "outputId": "fc3635b1-9b2c-47f4-b281-39db870144e7"
      },
      "execution_count": null,
      "outputs": [
        {
          "output_type": "stream",
          "name": "stdout",
          "text": [
            "ENTER THE MESSAGE: AIAN\\\\\n",
            "Enter the one time password: GYFSSU\n",
            "Length equal.\n",
            "Decrypted message is:  ukvvdb\n"
          ]
        }
      ]
    },
    {
      "cell_type": "code",
      "source": [],
      "metadata": {
        "id": "69jTYHidxxge"
      },
      "execution_count": null,
      "outputs": []
    }
  ]
}